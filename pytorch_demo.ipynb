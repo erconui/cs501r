{
  "nbformat": 4,
  "nbformat_minor": 0,
  "metadata": {
    "colab": {
      "name": "Untitled0.ipynb",
      "version": "0.3.2",
      "provenance": [],
      "include_colab_link": true
    },
    "kernelspec": {
      "name": "python3",
      "display_name": "Python 3"
    },
    "accelerator": "GPU"
  },
  "cells": [
    {
      "cell_type": "markdown",
      "metadata": {
        "id": "view-in-github",
        "colab_type": "text"
      },
      "source": [
        "[View in Colaboratory](https://colab.research.google.com/github/erconui/cs501r/blob/master/pytorch_demo.ipynb)"
      ]
    },
    {
      "metadata": {
        "id": "MgeTSw2_rtjN",
        "colab_type": "text"
      },
      "cell_type": "markdown",
      "source": [
        ""
      ]
    },
    {
      "metadata": {
        "id": "I6srKnCyqSpp",
        "colab_type": "code",
        "colab": {
          "base_uri": "https://localhost:8080/",
          "height": 139
        },
        "outputId": "0f675bb4-0abd-48e9-b2c7-0f64a1db2eed"
      },
      "cell_type": "code",
      "source": [
        "!pip3 install torch \n",
        "!pip3 install torchvision\n",
        "!pip3 install tqdm"
      ],
      "execution_count": 1,
      "outputs": [
        {
          "output_type": "stream",
          "text": [
            "Requirement already satisfied: torch in /usr/local/lib/python3.6/dist-packages (0.4.1)\n",
            "Requirement already satisfied: torchvision in /usr/local/lib/python3.6/dist-packages (0.2.1)\n",
            "Requirement already satisfied: torch in /usr/local/lib/python3.6/dist-packages (from torchvision) (0.4.1)\n",
            "Requirement already satisfied: pillow>=4.1.1 in /usr/local/lib/python3.6/dist-packages (from torchvision) (5.2.0)\n",
            "Requirement already satisfied: numpy in /usr/local/lib/python3.6/dist-packages (from torchvision) (1.14.5)\n",
            "Requirement already satisfied: six in /usr/local/lib/python3.6/dist-packages (from torchvision) (1.11.0)\n",
            "Requirement already satisfied: tqdm in /usr/local/lib/python3.6/dist-packages (4.26.0)\n"
          ],
          "name": "stdout"
        }
      ]
    },
    {
      "metadata": {
        "id": "Df_ArgkUp4Co",
        "colab_type": "code",
        "colab": {}
      },
      "cell_type": "code",
      "source": [
        "import torch\n",
        "import torch.nn as nn\n",
        "import torch.nn.functional as F\n",
        "import torch.optim as optim\n",
        "from torch.utils.data import Dataset, DataLoader\n",
        "import numpy as np\n",
        "import matplotlib.pyplot as plt\n",
        "from torchvision import transforms, utils, datasets\n",
        "from tqdm import tqdm\n",
        " \n",
        "assert torch.cuda.is_available() # You need to request a GPU from Runtime > Change Runtime Type"
      ],
      "execution_count": 0,
      "outputs": []
    },
    {
      "metadata": {
        "id": "_7gkiM9fwof6",
        "colab_type": "code",
        "colab": {}
      },
      "cell_type": "code",
      "source": [
        "class LinearNetwork(nn.Module):\n",
        "  def __init__(self, dataset):\n",
        "    super(LinearNetwork, self).__init__()\n",
        "    x, y = dataset[0]\n",
        "    c, h, w = x.size()\n",
        "    out = y.size(0)\n",
        "    self.net = nn.Sequential(\n",
        "        nn.Linear(c*h*w,out)\n",
        "#         nn.Linear(c*h*w, 1000),\n",
        "#         nn.Sigmoid(),\n",
        "#         nn.Linear(1000, out)\n",
        "        \n",
        "    )\n",
        "   \n",
        "  def forward(self, x):\n",
        "    n, c, h, w = x.size()\n",
        "    flattened = x.view(n, c * h * w)\n",
        "    return self.net(flattened)\n",
        " \n",
        "\n",
        "class FashionMNISTProcessedDataset(Dataset):\n",
        "  def __init__(self, root, train=True):\n",
        "    self.data = datasets.FashionMNIST(root, train=train, transform=transforms.ToTensor(), download=True)\n",
        "    self.e = torch.eye(10)\n",
        "  def __getitem__(self, i):\n",
        "    x, y = self.data[i]\n",
        "    return x, self.e[y].float()\n",
        "  \n",
        "  def __len__(self):\n",
        "    return len(self.data)"
      ],
      "execution_count": 0,
      "outputs": []
    },
    {
      "metadata": {
        "id": "Co0cc3SS6ZLz",
        "colab_type": "code",
        "colab": {}
      },
      "cell_type": "code",
      "source": [
        "train_dataset = FashionMNISTProcessedDataset('/tmp/fashionmnist', train=True)"
      ],
      "execution_count": 0,
      "outputs": []
    },
    {
      "metadata": {
        "id": "K0yJzTEIJgZ8",
        "colab_type": "code",
        "colab": {
          "base_uri": "https://localhost:8080/",
          "height": 34
        },
        "outputId": "f849df9f-48e3-4287-d51e-a99374a7d12b"
      },
      "cell_type": "code",
      "source": [
        "\n",
        "model = LinearNetwork(train_dataset)\n",
        "# model = model.cuda()\n",
        "model.cuda()\n",
        "objective = torch.nn.MSELoss()\n",
        "optimizer = optim.SGD(model.parameters(), lr=1e-4)\n",
        "train_loader = DataLoader(train_dataset, batch_size=42, pin_memory=True)\n",
        "\n",
        "losses = []\n",
        "loop = tqdm(total=len(train_loader)*1000, position=0)\n",
        "for epoch in range(1000):\n",
        "  for x, y_truth in train_loader:\n",
        "    x, y_truth = x.cuda(async=True), y_truth.cuda(async=True)\n",
        "    optimizer.zero_grad()\n",
        "    y_hat = model(x)\n",
        "    loss = objective(y_hat,y_truth)\n",
        "    losses.append(loss)\n",
        "    loop.set_description('loss:{:.4f}'.format(loss.item()))\n",
        "    loop.update(1)\n",
        "\n",
        "    loss.backward()\n",
        "    optimizer.step()\n",
        "loop.close()\n",
        "\n",
        "  \n",
        "ypredicated = model(x)\n",
        "\n",
        "ds = datasets.FashionMNIST('/tmp/fashionmnist', train=True, transform=transforms.ToTensor(), download=True)\n",
        "\n",
        "x,y = ds[0]\n",
        "    \n"
      ],
      "execution_count": 0,
      "outputs": [
        {
          "output_type": "stream",
          "text": [
            "loss:0.0739:   1%|          | 7260/1429000 [01:23<4:36:45, 85.62it/s]"
          ],
          "name": "stderr"
        }
      ]
    },
    {
      "metadata": {
        "id": "IfZB0fs_xDSI",
        "colab_type": "code",
        "colab": {
          "base_uri": "https://localhost:8080/",
          "height": 432
        },
        "outputId": "33f0edfe-a2a9-4073-bd3d-fdbdcd872493"
      },
      "cell_type": "code",
      "source": [
        "\n",
        "plt.plot(losses)\n",
        "plt.tight_layout()\n",
        "plt.xlabel('Time (Iterations)')\n",
        "plt.ylabel('Loss')\n"
      ],
      "execution_count": 8,
      "outputs": [
        {
          "output_type": "execute_result",
          "data": {
            "text/plain": [
              "Text(41.375,0.5,'Loss')"
            ]
          },
          "metadata": {
            "tags": []
          },
          "execution_count": 8
        },
        {
          "output_type": "display_data",
          "data": {
            "image/png": "[encoded data removed]",
            "text/plain": [
              "<matplotlib.figure.Figure at 0x7f790d13c0f0>"
            ]
          },
          "metadata": {
            "tags": []
          }
        }
      ]
    }
  ]
}